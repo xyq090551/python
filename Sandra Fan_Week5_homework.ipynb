{
 "cells": [
  {
   "cell_type": "code",
   "execution_count": 33,
   "metadata": {},
   "outputs": [
    {
     "name": "stdout",
     "output_type": "stream",
     "text": [
      "original array\n",
      "[1, 2, 3, 4, 9, 9, 5, 2]\n",
      "remove duplicate\n",
      "[1 2 3 4 5 9]\n",
      "original table\n",
      "   H1  H2  H3  H4\n",
      "0   1   4   7   4\n",
      "1   2   5   8   5\n",
      "2   3   5   9   5\n",
      "3   2   5   8   5\n",
      "remove duplicate rows\n",
      "   H1  H2  H3  H4\n",
      "0   1   4   7   4\n",
      "1   2   5   8   5\n",
      "2   3   5   9   5\n"
     ]
    }
   ],
   "source": [
    "## Homework #1 \n",
    "#How can you remove duplicate values in a dataset in Python?\n",
    "import numpy as np\n",
    "#if input is an array\n",
    "a=[1,2,3,4,9,9,5,2]\n",
    "my_array=np.array(a)\n",
    "print (\"original array\")\n",
    "print (a)\n",
    "a_unique = np.unique(a)\n",
    "print (\"remove duplicate\")\n",
    "print (a_unique)\n",
    "#if input is a table\n",
    "import pandas as pd\n",
    "df=pd.DataFrame({'H1':[1,2,3,2],'H2':[4,5,5,5],'H3':[7,8,9,8],'H4':[4,5,5,5]})\n",
    "print (\"original table\")\n",
    "print(df)\n",
    "#drop duplicate rows\n",
    "df=df.drop_duplicates(['H1', 'H2','H3','H4'])\n",
    "print (\"remove duplicate rows\")\n",
    "print(df)\n",
    "#drop duplicate columns based on column content\n",
    "#do not know the solution???\n"
   ]
  },
  {
   "cell_type": "code",
   "execution_count": 34,
   "metadata": {},
   "outputs": [],
   "source": [
    "## Homework #2\n",
    "#You are given two tables - friend_request and request_accepted.\n",
    "#Friend_request contains requester_id, time and sent_to_id and\n",
    "#request_accepted table contains time, acceptor_id and\n",
    "#requestor_id. How will you determine the overall acceptance rate\n",
    "#of requests?\n",
    "#Write in both Python and SQL.\n",
    "\n",
    "#Ans:\n",
    "\n",
    "#Assumption: \n",
    "#    a)The pair of acceptor_id and requestor_id in request_accepted table always pre-exist in friend_request table.\n",
    "#    b)Both tables are not empty.\n",
    "# SQL: \n",
    "#select bb.accept_num / aa.total as accept_rate from\n",
    "#(select count(*) as total from (select distinct requester_id, sent_to_id from friend_request) a) aa,\n",
    "#(select count(*) as accept_num from (distinct acceptor_id, requestor_id from request_accepted) b) bb\n",
    "\n",
    "#python\n",
    "import pandas as pd\n",
    "friend_request=pd.read_csv('friend_request.csv')\n",
    "request_accepted=pd.read_csv('request_accepted.csv')\n",
    "friend_request=friend_request.drop_duplicates(['requester_id','sent_to_id'])\n",
    "request_accepted=request_accepted.drop_duplicates(['acceptor_id','requestor_id'])\n",
    "acceptance_rate=num(request_accepted.count())/num(friend_request.count())\n",
    "\n"
   ]
  },
  {
   "cell_type": "code",
   "execution_count": 67,
   "metadata": {},
   "outputs": [
    {
     "name": "stdout",
     "output_type": "stream",
     "text": [
      "            card_number issuer\n",
      "0      4175004175004172       \n",
      "1      4917491749174917       \n",
      "2       346416800707698       \n",
      "3       376416800707698       \n",
      "4  37641680070769832112       \n",
      "5        36641680070769       \n",
      "6     54545641680070769       \n",
      "            card_number       issuer\n",
      "0      4175004175004172         VISA\n",
      "1      4917491749174917         VISA\n",
      "2       346416800707698         AMEX\n",
      "3       376416800707698         AMEX\n",
      "4  37641680070769832112      Unknown\n",
      "5        36641680070769  Diners Club\n",
      "6     54545641680070769      Unknown\n"
     ]
    }
   ],
   "source": [
    "##Homework #3\n",
    "#Now write Python scripts to identify the issuer of the following credit card numbers\n",
    "import pandas as pd\n",
    "df=pd.DataFrame({'card_number':['4175004175004172','4917491749174917','346416800707698','376416800707698','37641680070769832112','36641680070769','54545641680070769' ] })\n",
    "df['issuer']=''\n",
    "print(df) \n",
    "for i in range(0, len(df['card_number'])):\n",
    "    if df['card_number'][i].startswith('4') and len(df['card_number'][i])==16 :\n",
    "        df['issuer'][i]='VISA'\n",
    "    elif (df['card_number'][i].startswith('34') or df['card_number'][i].startswith('37')) and len(df['card_number'][i])==15 :\n",
    "        df['issuer'][i]='AMEX'\n",
    "    elif df['card_number'][i].startswith('36') and len(df['card_number'][i])==14:\n",
    "        df['issuer'][i]='Diners Club'\n",
    "    elif (df['card_number'][i].startswith('4026') or df['card_number'][i].startswith('417500') or df['card_number'][i].startswith('4405') or df['card_number'][i].startswith('4508') or df['card_number'][i].startswith('4844') or df['card_number'][i].startswith('4913') or df['card_number'][i].startswith('4917')) and len(df['card_number'][i])==16 : \n",
    "        df['issuer'][i]='VISAELECTRON'\n",
    "    else:\n",
    "        df['issuer'][i]='Unknown'\n",
    "print(df)                               \n",
    "                                \n",
    "                                \n",
    "                                "
   ]
  },
  {
   "cell_type": "code",
   "execution_count": 157,
   "metadata": {},
   "outputs": [
    {
     "data": {
      "text/html": [
       "<div>\n",
       "<style scoped>\n",
       "    .dataframe tbody tr th:only-of-type {\n",
       "        vertical-align: middle;\n",
       "    }\n",
       "\n",
       "    .dataframe tbody tr th {\n",
       "        vertical-align: top;\n",
       "    }\n",
       "\n",
       "    .dataframe thead th {\n",
       "        text-align: right;\n",
       "    }\n",
       "</style>\n",
       "<table border=\"1\" class=\"dataframe\">\n",
       "  <thead>\n",
       "    <tr style=\"text-align: right;\">\n",
       "      <th></th>\n",
       "      <th>country</th>\n",
       "      <th>date</th>\n",
       "      <th>experiment_id</th>\n",
       "      <th>order_id</th>\n",
       "      <th>spend_usd</th>\n",
       "      <th>user_id</th>\n",
       "      <th>vertical</th>\n",
       "    </tr>\n",
       "  </thead>\n",
       "  <tbody>\n",
       "    <tr>\n",
       "      <th>20626</th>\n",
       "      <td>JP</td>\n",
       "      <td>2017-04-01</td>\n",
       "      <td>12624549</td>\n",
       "      <td>14501424706754266227</td>\n",
       "      <td>2.151847</td>\n",
       "      <td>17881412854202596798</td>\n",
       "      <td>ANDROID_APPS</td>\n",
       "    </tr>\n",
       "    <tr>\n",
       "      <th>9582</th>\n",
       "      <td>IT</td>\n",
       "      <td>2017-04-01</td>\n",
       "      <td>12624549</td>\n",
       "      <td>14234923170739343699</td>\n",
       "      <td>1.056582</td>\n",
       "      <td>8630776028280626032</td>\n",
       "      <td>ANDROID_APPS</td>\n",
       "    </tr>\n",
       "    <tr>\n",
       "      <th>9583</th>\n",
       "      <td>IT</td>\n",
       "      <td>2017-04-01</td>\n",
       "      <td>12624549</td>\n",
       "      <td>10595643036881346744</td>\n",
       "      <td>7.460112</td>\n",
       "      <td>8630776028280626032</td>\n",
       "      <td>MUSIC</td>\n",
       "    </tr>\n",
       "    <tr>\n",
       "      <th>49365</th>\n",
       "      <td>JP</td>\n",
       "      <td>2017-04-01</td>\n",
       "      <td>12624548</td>\n",
       "      <td>14654879119454326109</td>\n",
       "      <td>3.586412</td>\n",
       "      <td>14041929980919583133</td>\n",
       "      <td>ANDROID_APPS</td>\n",
       "    </tr>\n",
       "    <tr>\n",
       "      <th>9585</th>\n",
       "      <td>IT</td>\n",
       "      <td>2017-04-01</td>\n",
       "      <td>12624549</td>\n",
       "      <td>3662077915915815113</td>\n",
       "      <td>1.056582</td>\n",
       "      <td>8630776028280626032</td>\n",
       "      <td>ANDROID_APPS</td>\n",
       "    </tr>\n",
       "  </tbody>\n",
       "</table>\n",
       "</div>"
      ],
      "text/plain": [
       "      country       date  experiment_id              order_id  spend_usd  \\\n",
       "20626      JP 2017-04-01       12624549  14501424706754266227   2.151847   \n",
       "9582       IT 2017-04-01       12624549  14234923170739343699   1.056582   \n",
       "9583       IT 2017-04-01       12624549  10595643036881346744   7.460112   \n",
       "49365      JP 2017-04-01       12624548  14654879119454326109   3.586412   \n",
       "9585       IT 2017-04-01       12624549   3662077915915815113   1.056582   \n",
       "\n",
       "                    user_id      vertical  \n",
       "20626  17881412854202596798  ANDROID_APPS  \n",
       "9582    8630776028280626032  ANDROID_APPS  \n",
       "9583    8630776028280626032         MUSIC  \n",
       "49365  14041929980919583133  ANDROID_APPS  \n",
       "9585    8630776028280626032  ANDROID_APPS  "
      ]
     },
     "execution_count": 157,
     "metadata": {},
     "output_type": "execute_result"
    }
   ],
   "source": [
    "##Homework #4\n",
    "#PrintCumulativeTimeSeries()\n",
    "#Three parameters: experiment_id, country, and vertical\n",
    "import numpy as np\n",
    "import pandas as pd\n",
    "from matplotlib import pyplot as plt\n",
    "df=pd.read_csv('/Users/siqifan/anaconda3/siqi_python_folder/BA501_python_data.csv')\n",
    "df['date']=pd.to_datetime(df['date'], format='%Y%m%d')\n",
    "df=df.sort_values('date',ascending=True, inplace=False)\n",
    "df.head(5)\n"
   ]
  },
  {
   "cell_type": "code",
   "execution_count": 77,
   "metadata": {},
   "outputs": [
    {
     "data": {
      "text/plain": [
       "array([12624548, 12624549])"
      ]
     },
     "execution_count": 77,
     "metadata": {},
     "output_type": "execute_result"
    }
   ],
   "source": [
    "### parameters: experiment_id\n",
    "np.unique(df['experiment_id'])"
   ]
  },
  {
   "cell_type": "code",
   "execution_count": 116,
   "metadata": {},
   "outputs": [
    {
     "name": "stdout",
     "output_type": "stream",
     "text": [
      "date\n",
      "2017-04-01     84017.341822\n",
      "2017-04-02    137448.866601\n",
      "2017-04-03    190557.548939\n",
      "2017-04-04    236190.035518\n",
      "2017-04-05    287575.193811\n",
      "2017-04-06    334991.572625\n",
      "2017-04-07    397069.860459\n",
      "Name: spend_usd, dtype: float64\n"
     ]
    }
   ],
   "source": [
    "red_id=np.unique(df['experiment_id'])[0]\n",
    "blue_id=np.unique(df['experiment_id'])[1]\n",
    "red_data=df[['date','spend_usd','country','vertical']][(df.experiment_id==red_id)]\n",
    "blue_data=df[['date','spend_usd','country','vertical']][(df.experiment_id==blue_id)]\n",
    "red_series=red_data.groupby('date')['spend_usd'].sum().cumsum()\n",
    "blue_series=blue_data.groupby('date')['spend_usd'].sum().cumsum()\n",
    "index_series=red_series.index\n",
    "print(red_series)"
   ]
  },
  {
   "cell_type": "code",
   "execution_count": 121,
   "metadata": {},
   "outputs": [
    {
     "data": {
      "image/png": "[encoded data removed]",
      "text/plain": [
       "<matplotlib.figure.Figure at 0x11224f198>"
      ]
     },
     "metadata": {},
     "output_type": "display_data"
    }
   ],
   "source": [
    "df2=pd.DataFrame({'experiment':red_series.tolist(),'control':blue_series.tolist()}, index=index_series.tolist())\n",
    "fig,ax=plt.subplots()\n",
    "ax.plot(df2.experiment, color='red',label='red')\n",
    "ax.plot(df2.control, color='blue',label='blue')\n",
    "ax.set_ylim(0,450000)\n",
    "ax.set_title('red vs blue')\n",
    "ax.grid(True, which='both')\n",
    "ax.legend().get_texts()[0].set_text('red')\n",
    "ax.legend().get_texts()[1].set_text('blue')\n",
    "plt.gcf().autofmt_xdate()"
   ]
  },
  {
   "cell_type": "code",
   "execution_count": 149,
   "metadata": {},
   "outputs": [
    {
     "name": "stdout",
     "output_type": "stream",
     "text": [
      "   country          total\n",
      "27      JP  241406.864175\n",
      "52      US  234252.713573\n",
      "28      KR  131706.979622\n",
      "9       DE   31491.686018\n",
      "16      GB   22644.965632\n",
      "15      FR   21180.562013\n",
      "3       AU   15877.633679\n",
      "6       CA   12951.332762\n",
      "18      HK   10188.606958\n",
      "26      IT    9360.671022\n",
      "5       BR    7226.139306\n",
      "13      ES    6280.247879\n",
      "21      ID    5480.962275\n",
      "46      SG    4706.505418\n",
      "33      NL    4226.217002\n",
      "49      TR    3909.707246\n",
      "2       AT    3759.115467\n",
      "7       CH    3549.431644\n",
      "4       BE    2789.523098\n",
      "45      SE    2634.859729\n",
      "38      PL    2555.709180\n",
      "54      ZA    2402.150305\n",
      "24      IN    2393.356750\n",
      "35      NZ    1871.535585\n",
      "34      NO    1842.916416\n",
      "14      FI    1458.194388\n",
      "10      DK    1358.179783\n",
      "22      IE    1160.637553\n",
      "17      GR     803.236874\n",
      "40      PT     604.500019\n",
      "44      SA      63.867151\n",
      "31      MX      52.039831\n",
      "51      UA      43.914211\n",
      "48      TH      40.363124\n",
      "43      RU      26.615652\n",
      "42      RS      19.990000\n",
      "50      TW      16.797751\n",
      "1       AR      16.180000\n",
      "20      HU      15.460824\n",
      "0       AE      14.963641\n",
      "29      KW      12.960000\n",
      "23      IL      12.082609\n",
      "32      MY       8.604777\n",
      "47      SK       6.371211\n",
      "39      PR       4.990000\n",
      "8       CZ       4.982100\n",
      "53      VN       3.990000\n",
      "36      OM       2.970000\n",
      "25      IS       2.490535\n",
      "41      RO       2.123098\n",
      "30      LV       2.111318\n",
      "37      PK       1.992930\n",
      "11      DZ       1.990000\n",
      "12      EG       1.432207\n",
      "19      HR       1.290010\n"
     ]
    }
   ],
   "source": [
    "### parameters: country\n",
    "country=df.groupby('country')['spend_usd'].sum().reset_index(name ='total')\n",
    "country=country.sort_values(['total'],ascending=[False])\n",
    "print(country)\n",
    "#pick top three spend - countries based on the output: JP, US, KR"
   ]
  },
  {
   "cell_type": "code",
   "execution_count": null,
   "metadata": {},
   "outputs": [],
   "source": [
    "#series_jp=df['spend_usd'][(df.country=='JP')]\n",
    "#series_us=df['spend_usd'][(df.country=='US')]\n",
    "#fig,ax=plt.subplots(ncols=2,sharex=True, sharey=True)\n",
    "#ax[0].hist(series_jp, bins=15)\n",
    "#ax[1].hist(series_us, bins=15)\n",
    "#ax[0].set_title('jp')\n",
    "#ax[1].set_title('us')\n",
    "#ax[0].set_ylabel('total order')\n",
    "#ax[0].set_xlabel('spend')\n",
    "#ax[1].set_ylabel('spend')"
   ]
  },
  {
   "cell_type": "code",
   "execution_count": 153,
   "metadata": {},
   "outputs": [
    {
     "name": "stdout",
     "output_type": "stream",
     "text": [
      "date\n",
      "2017-04-01     70321.087334\n",
      "2017-04-02    103709.591803\n",
      "2017-04-03    135159.325630\n",
      "2017-04-04    157726.015119\n",
      "2017-04-05    191639.349200\n",
      "2017-04-06    213042.856390\n",
      "2017-04-07    241406.864175\n",
      "Name: spend_usd, dtype: float64\n"
     ]
    }
   ],
   "source": [
    "jp_data=df[['date','spend_usd']][(df.country=='JP')]\n",
    "us_data=df[['date','spend_usd']][(df.country=='US')]\n",
    "kr_data=df[['date','spend_usd']][(df.country=='KR')]\n",
    "jp_series=jp_data.groupby('date')['spend_usd'].sum().cumsum()\n",
    "us_series=us_data.groupby('date')['spend_usd'].sum().cumsum()\n",
    "kr_series=kr_data.groupby('date')['spend_usd'].sum().cumsum()\n",
    "index_series=jp_series.index\n",
    "print(jp_series)\n"
   ]
  },
  {
   "cell_type": "code",
   "execution_count": 156,
   "metadata": {},
   "outputs": [
    {
     "data": {
      "image/png": "[encoded data removed]",
      "text/plain": [
       "<matplotlib.figure.Figure at 0x112d18b70>"
      ]
     },
     "metadata": {},
     "output_type": "display_data"
    }
   ],
   "source": [
    "df4=pd.DataFrame({'experiment':jp_series.tolist(),'control1':us_series.tolist(),'control2':kr_series.tolist()})\n",
    "fig,ax=plt.subplots()\n",
    "ax.plot(df3.experiment, color='red', label='JP')\n",
    "ax.plot(df3.control1, color='blue',label='US')\n",
    "ax.plot(df3.control2, color='green',label='KR')\n",
    "#ax.set_ylim(0,)\n",
    "ax.set_title('JP vs US vs KR')\n",
    "ax.grid(True, which='both')\n",
    "ax.legend().get_texts()[0].set_text('JP')\n",
    "ax.legend().get_texts()[1].set_text('US')\n",
    "ax.legend().get_texts()[2].set_text('KR')    \n",
    "plt.gcf().autofmt_xdate()\n",
    "\n"
   ]
  },
  {
   "cell_type": "code",
   "execution_count": 76,
   "metadata": {},
   "outputs": [
    {
     "data": {
      "text/plain": [
       "array(['ANDROID_APPS', 'COMMERCE', 'MAGAZINES', 'MULTI_CONTAINER',\n",
       "       'MUSIC', 'OCEAN', 'YOUTUBE'], dtype=object)"
      ]
     },
     "execution_count": 76,
     "metadata": {},
     "output_type": "execute_result"
    }
   ],
   "source": [
    "### parameters: vertical\n",
    "np.unique(df['vertical'])"
   ]
  },
  {
   "cell_type": "code",
   "execution_count": 124,
   "metadata": {},
   "outputs": [
    {
     "name": "stdout",
     "output_type": "stream",
     "text": [
      "vertical\n",
      "ANDROID_APPS       761747.706265\n",
      "COMMERCE              165.000000\n",
      "MAGAZINES             123.193424\n",
      "MULTI_CONTAINER       645.000000\n",
      "MUSIC               16084.391884\n",
      "OCEAN                4449.726206\n",
      "YOUTUBE              9342.626830\n",
      "Name: spend_usd, dtype: float64\n"
     ]
    }
   ],
   "source": [
    "vert=df.groupby('vertical')['spend_usd'].sum()\n",
    "#pick top three spend - verticals based on the output: android, music, youtube\n",
    "print(vert)"
   ]
  },
  {
   "cell_type": "code",
   "execution_count": 139,
   "metadata": {},
   "outputs": [
    {
     "name": "stdout",
     "output_type": "stream",
     "text": [
      "date\n",
      "2017-04-01    158787.659360\n",
      "2017-04-02    263209.059821\n",
      "2017-04-03    360165.602450\n",
      "2017-04-04    447294.765113\n",
      "2017-04-05    548918.430988\n",
      "2017-04-06    646466.109136\n",
      "2017-04-07    761747.706265\n",
      "Name: spend_usd, dtype: float64\n"
     ]
    }
   ],
   "source": [
    "android_data=df[['date','spend_usd']][(df.vertical=='ANDROID_APPS')]\n",
    "music_data=df[['date','spend_usd']][(df.vertical=='MUSIC')]\n",
    "youtube_data=df[['date','spend_usd']][(df.vertical=='YOUTUBE')]\n",
    "android_series=android_data.groupby('date')['spend_usd'].sum().cumsum()\n",
    "music_series=music_data.groupby('date')['spend_usd'].sum().cumsum()\n",
    "youtube_series=youtube_data.groupby('date')['spend_usd'].sum().cumsum()\n",
    "index_series=android_series.index\n",
    "print(android_series)"
   ]
  },
  {
   "cell_type": "code",
   "execution_count": 140,
   "metadata": {},
   "outputs": [
    {
     "name": "stdout",
     "output_type": "stream",
     "text": [
      "date\n",
      "2017-04-01     2532.005976\n",
      "2017-04-02     4745.363449\n",
      "2017-04-03     6883.734303\n",
      "2017-04-04     8990.826989\n",
      "2017-04-05    11339.529132\n",
      "2017-04-06    13533.499763\n",
      "2017-04-07    16084.391884\n",
      "Name: spend_usd, dtype: float64\n"
     ]
    }
   ],
   "source": [
    "print(music_series)"
   ]
  },
  {
   "cell_type": "code",
   "execution_count": 142,
   "metadata": {},
   "outputs": [
    {
     "name": "stdout",
     "output_type": "stream",
     "text": [
      "date\n",
      "2017-04-01    1649.886679\n",
      "2017-04-02    3585.862291\n",
      "2017-04-03    4411.126974\n",
      "2017-04-04    5465.710507\n",
      "2017-04-05    6527.217174\n",
      "2017-04-06    7573.661238\n",
      "2017-04-07    9342.626830\n",
      "Name: spend_usd, dtype: float64\n"
     ]
    }
   ],
   "source": [
    "print(youtube_series)"
   ]
  },
  {
   "cell_type": "code",
   "execution_count": 138,
   "metadata": {},
   "outputs": [
    {
     "data": {
      "image/png": "[encoded data removed]",
      "text/plain": [
       "<matplotlib.figure.Figure at 0x111a5f9e8>"
      ]
     },
     "metadata": {},
     "output_type": "display_data"
    }
   ],
   "source": [
    "df3=pd.DataFrame({'experiment':android_series.tolist(),'control1':music_series.tolist(),'control2':youtube_series.tolist()})\n",
    "fig,ax=plt.subplots()\n",
    "ax.plot(df3.experiment, color='red',label='android')\n",
    "ax.plot(df3.control1, color='blue',label='music')\n",
    "ax.plot(df3.control2, color='green',label='youtube')\n",
    "#ax_set_ylim(0,)\n",
    "ax.set_title('android vs music vs youtube')\n",
    "ax.grid(True, which='both')\n",
    "ax.legend().get_texts()[0].set_text('android')\n",
    "ax.legend().get_texts()[1].set_text('music')\n",
    "ax.legend().get_texts()[2].set_text('youtube')\n",
    "plt.gcf().autofmt_xdate()\n",
    "\n"
   ]
  }
 ],
 "metadata": {
  "kernelspec": {
   "display_name": "Python 3",
   "language": "python",
   "name": "python3"
  },
  "language_info": {
   "codemirror_mode": {
    "name": "ipython",
    "version": 3
   },
   "file_extension": ".py",
   "mimetype": "text/x-python",
   "name": "python",
   "nbconvert_exporter": "python",
   "pygments_lexer": "ipython3",
   "version": "3.6.4"
  }
 },
 "nbformat": 4,
 "nbformat_minor": 2
}
